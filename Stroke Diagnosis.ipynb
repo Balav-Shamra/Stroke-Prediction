{
 "cells": [
  {
   "cell_type": "markdown",
   "metadata": {},
   "source": [
    "<div style=\"background-color:black;\">\n",
    "<div style=\"background-color:grey; height:10px; border-radius:40px;\"></div>\n",
    "\n",
    "# <center style=\"color:cyan; font-weight:bold;\"> Gyalpozhing College of Information Technology </center>\n",
    "\n",
    "#### <center style=\"color:green;font-weight:bold;\"> Machine Learning Project </center>\n",
    "\n",
    "## <center style=\"color:white; font-weight:bold;\"> Stroke Diagnosis </center>\n",
    "\n",
    "<center><img style=\"height:60%;\" src=\"strokeImage.jfif\"/></center>\n",
    "\n",
    "#### <center style=\"color:green;font-weight:bold;\"> CAE 307 - Data Science </center>\n",
    "\n",
    "<div style=\"background-color:grey; height:10px; border-radius:40px;\"></div>\n",
    "</div>"
   ]
  },
  {
   "cell_type": "markdown",
   "metadata": {},
   "source": [
    "<div style=\"color:white;background-color:black;\">\n",
    "\n",
    "## About Dataset\n",
    "\n",
    "* `id`: unique identifier\n",
    "* `gender`: \"Male\", \"Female\" or \"Other\"\n",
    "* `age`: age of the patient\n",
    "* `hypertension`: 0 if the patient doesn't have hypertension, 1 if the patient has hypertension\n",
    "* `heart_disease`: 0 if the patient doesn't have any heart diseases, 1 if the patient has a heart disease\n",
    "* `ever_married`: \"No\" or \"Yes\"\n",
    "* `work_type`: \"children\", \"Govt_job\", \"Never_worked\", \"Private\" or \"Self-employed\"\n",
    "* `Residence_type`: \"Rural\" or \"Urban\"\n",
    "* `avg_glucose_level`: average glucose level in blood\n",
    "\n",
    "* `bmi`: body mass index\n",
    "\n",
    "* `smoking_status`: \"formerly smoked\", \"never smoked\", \"smokes\" or \"Unknown\"*\n",
    "\n",
    "* `stroke`: 1 if the patient had a stroke or 0 if not\n",
    "\n",
    "</div>"
   ]
  },
  {
   "cell_type": "markdown",
   "metadata": {},
   "source": [
    "<center style=\"background-color:red; border-radius:20px;height:27px;font-weight:bold;\">DATA EXPLORATION<center>"
   ]
  },
  {
   "cell_type": "markdown",
   "metadata": {},
   "source": [
    "### Import required libraries"
   ]
  },
  {
   "cell_type": "code",
   "execution_count": 1,
   "metadata": {},
   "outputs": [],
   "source": [
    "import pandas as pd\n",
    "import numpy as np\n",
    "import matplotlib.pyplot as plt\n",
    "import seaborn as sns\n",
    "from sklearn.utils import shuffle"
   ]
  },
  {
   "cell_type": "markdown",
   "metadata": {},
   "source": [
    "### Data Loading"
   ]
  },
  {
   "cell_type": "code",
   "execution_count": 2,
   "metadata": {},
   "outputs": [
    {
     "data": {
      "text/plain": "      id  hypertension  heart_disease ever_married Residence_type  \\\n0  12109           1.0            0.0          Yes          Rural   \n1  11111           1.0            0.0          Yes          Urban   \n2  44978           0.0            0.0          Yes          Rural   \n3  41241           0.0            0.0          Yes          Urban   \n4  64132           0.0            1.0          Yes          Rural   \n\n  smoking_status  stroke  avg_glucose_level    work_type  age  gender  \n0          Never       1            175.270  Private_job   20    Male  \n1  Smoked Before       1            189.427  Private_job   92    Male  \n2  Smoked Before       0            205.948     Gove_job   22  Female  \n3  Smoked Before       1            116.115  Private_job   49  Female  \n4        Unknown       1            147.898  Private_job   48  Female  ",
      "text/html": "<div>\n<style scoped>\n    .dataframe tbody tr th:only-of-type {\n        vertical-align: middle;\n    }\n\n    .dataframe tbody tr th {\n        vertical-align: top;\n    }\n\n    .dataframe thead th {\n        text-align: right;\n    }\n</style>\n<table border=\"1\" class=\"dataframe\">\n  <thead>\n    <tr style=\"text-align: right;\">\n      <th></th>\n      <th>id</th>\n      <th>hypertension</th>\n      <th>heart_disease</th>\n      <th>ever_married</th>\n      <th>Residence_type</th>\n      <th>smoking_status</th>\n      <th>stroke</th>\n      <th>avg_glucose_level</th>\n      <th>work_type</th>\n      <th>age</th>\n      <th>gender</th>\n    </tr>\n  </thead>\n  <tbody>\n    <tr>\n      <th>0</th>\n      <td>12109</td>\n      <td>1.0</td>\n      <td>0.0</td>\n      <td>Yes</td>\n      <td>Rural</td>\n      <td>Never</td>\n      <td>1</td>\n      <td>175.270</td>\n      <td>Private_job</td>\n      <td>20</td>\n      <td>Male</td>\n    </tr>\n    <tr>\n      <th>1</th>\n      <td>11111</td>\n      <td>1.0</td>\n      <td>0.0</td>\n      <td>Yes</td>\n      <td>Urban</td>\n      <td>Smoked Before</td>\n      <td>1</td>\n      <td>189.427</td>\n      <td>Private_job</td>\n      <td>92</td>\n      <td>Male</td>\n    </tr>\n    <tr>\n      <th>2</th>\n      <td>44978</td>\n      <td>0.0</td>\n      <td>0.0</td>\n      <td>Yes</td>\n      <td>Rural</td>\n      <td>Smoked Before</td>\n      <td>0</td>\n      <td>205.948</td>\n      <td>Gove_job</td>\n      <td>22</td>\n      <td>Female</td>\n    </tr>\n    <tr>\n      <th>3</th>\n      <td>41241</td>\n      <td>0.0</td>\n      <td>0.0</td>\n      <td>Yes</td>\n      <td>Urban</td>\n      <td>Smoked Before</td>\n      <td>1</td>\n      <td>116.115</td>\n      <td>Private_job</td>\n      <td>49</td>\n      <td>Female</td>\n    </tr>\n    <tr>\n      <th>4</th>\n      <td>64132</td>\n      <td>0.0</td>\n      <td>1.0</td>\n      <td>Yes</td>\n      <td>Rural</td>\n      <td>Unknown</td>\n      <td>1</td>\n      <td>147.898</td>\n      <td>Private_job</td>\n      <td>48</td>\n      <td>Female</td>\n    </tr>\n  </tbody>\n</table>\n</div>"
     },
     "execution_count": 2,
     "metadata": {},
     "output_type": "execute_result"
    }
   ],
   "source": [
    "df = pd.read_csv(\"my_stroke.csv\")\n",
    "df = df.drop(columns=[\"bmi\"])\n",
    "df[\"smoking_status\"] = df[\"smoking_status\"].replace({\"never smoked\":\"Never\", \"formerly smoked\":\"Smoked Before\", \"smokes\":\"Smokes\"})\n",
    "df[\"hypertension\"] = df[\"hypertension\"].replace({1.0:1, 0.0:0})\n",
    "df[\"heart_disease\"] = df[\"heart_disease\"].replace({1.0:1, 0.0:0})\n",
    "\n",
    "df.head()"
   ]
  },
  {
   "cell_type": "code",
   "execution_count": 3,
   "metadata": {},
   "outputs": [],
   "source": [
    "df[\"work_type\"] = df[\"work_type\"].replace({\"Private_job\":\"Private Job\", \"Gove_job\":\"Goverment Job\", \"Self_employed\":\"Self Employed\"})\n",
    "\n",
    "df.loc[913:913,['ever_married']] = \"No\"\n",
    "\n",
    "df.loc[6:6, [\"Residence_type\"]] = \"Rural\""
   ]
  },
  {
   "cell_type": "code",
   "execution_count": 4,
   "metadata": {},
   "outputs": [
    {
     "data": {
      "text/plain": "Never            525\nSmoked Before    468\nUnknown          317\nSmokes           298\nName: smoking_status, dtype: int64"
     },
     "execution_count": 4,
     "metadata": {},
     "output_type": "execute_result"
    }
   ],
   "source": [
    "df.smoking_status.value_counts()"
   ]
  },
  {
   "cell_type": "code",
   "execution_count": 5,
   "metadata": {},
   "outputs": [],
   "source": [
    "# bmi = []\n",
    "# glu = []\n",
    "# work = []\n",
    "# age = []\n",
    "# gender = []\n",
    "# for i in range(len(df)):\n",
    "#     bmi.append(np.round(np.random.uniform(12.1, 52.3), 3))\n",
    "#     glu.append(np.round(np.random.uniform(17.2, 274.98), 3))\n",
    "#     work.append(np.random.choice([\"Gove_job\", \"Private_job\", \"Self_employed\"]))\n",
    "#     age.append(np.random.randint(20, 103))\n",
    "#     gender.append(np.random.choice([\"Male\", \"Female\"]))\n",
    "# len(bmi)\n",
    "# df[\"bmi\"] = bmi\n",
    "# df[\"bmi\"] = df[\"bmi\"].astype(\"float\")\n",
    "# df[\"avg_glucose_level\"] = glu\n",
    "# df[\"work_type\"] = work\n",
    "# df[\"age\"] = age\n",
    "# df[\"gender\"] = gender\n",
    "# df.head()"
   ]
  },
  {
   "cell_type": "markdown",
   "metadata": {},
   "source": [
    "### Count the number of missing values in each column"
   ]
  },
  {
   "cell_type": "code",
   "execution_count": 6,
   "metadata": {},
   "outputs": [
    {
     "data": {
      "text/plain": "id                   0\nhypertension         2\nheart_disease        1\never_married         0\nResidence_type       3\nsmoking_status       6\nstroke               0\navg_glucose_level    2\nwork_type            1\nage                  0\ngender               2\ndtype: int64"
     },
     "execution_count": 6,
     "metadata": {},
     "output_type": "execute_result"
    }
   ],
   "source": [
    "df.isna().sum()"
   ]
  },
  {
   "cell_type": "code",
   "execution_count": 7,
   "metadata": {},
   "outputs": [
    {
     "data": {
      "text/plain": "<Figure size 1500x400 with 1 Axes>",
      "image/png": "[encoded data removed]"
     },
     "metadata": {},
     "output_type": "display_data"
    }
   ],
   "source": [
    "# Plot the missing values in each columns\n",
    "from matplotlib.pyplot import annotate\n",
    "\n",
    "missing_values = pd.DataFrame(df.isna().sum())\n",
    "missing_values.plot(kind=\"bar\",\n",
    "                    title=\"Missing Values in each Columns\",\n",
    "                    xlabel=\"Name of Column\",\n",
    "                    ylabel=\"Number of missing values\",\n",
    "                    color=\"red\",\n",
    "                    figsize=(15, 4),\n",
    "                    legend=False);"
   ]
  },
  {
   "cell_type": "markdown",
   "metadata": {},
   "source": [
    "### Statistical Summary of the dataframe"
   ]
  },
  {
   "cell_type": "code",
   "execution_count": 8,
   "metadata": {},
   "outputs": [
    {
     "data": {
      "text/plain": "                 id  hypertension  heart_disease       stroke  \\\ncount   1614.000000   1612.000000    1613.000000  1614.000000   \nmean   36252.462825      0.205335       0.138252     0.498141   \nstd    21293.572552      0.404072       0.345271     0.500152   \nmin       84.000000      0.000000       0.000000     0.000000   \n25%    17014.500000      0.000000       0.000000     0.000000   \n50%    36058.000000      0.000000       0.000000     0.000000   \n75%    54850.250000      0.000000       0.000000     1.000000   \nmax    72918.000000      1.000000       1.000000     1.000000   \n\n       avg_glucose_level          age  \ncount        1612.000000  1614.000000  \nmean          143.809671    60.035936  \nstd            74.101516    23.978885  \nmin            17.519000    20.000000  \n25%            80.290250    39.000000  \n50%           142.870000    59.000000  \n75%           206.902000    81.000000  \nmax           274.961000   102.000000  ",
      "text/html": "<div>\n<style scoped>\n    .dataframe tbody tr th:only-of-type {\n        vertical-align: middle;\n    }\n\n    .dataframe tbody tr th {\n        vertical-align: top;\n    }\n\n    .dataframe thead th {\n        text-align: right;\n    }\n</style>\n<table border=\"1\" class=\"dataframe\">\n  <thead>\n    <tr style=\"text-align: right;\">\n      <th></th>\n      <th>id</th>\n      <th>hypertension</th>\n      <th>heart_disease</th>\n      <th>stroke</th>\n      <th>avg_glucose_level</th>\n      <th>age</th>\n    </tr>\n  </thead>\n  <tbody>\n    <tr>\n      <th>count</th>\n      <td>1614.000000</td>\n      <td>1612.000000</td>\n      <td>1613.000000</td>\n      <td>1614.000000</td>\n      <td>1612.000000</td>\n      <td>1614.000000</td>\n    </tr>\n    <tr>\n      <th>mean</th>\n      <td>36252.462825</td>\n      <td>0.205335</td>\n      <td>0.138252</td>\n      <td>0.498141</td>\n      <td>143.809671</td>\n      <td>60.035936</td>\n    </tr>\n    <tr>\n      <th>std</th>\n      <td>21293.572552</td>\n      <td>0.404072</td>\n      <td>0.345271</td>\n      <td>0.500152</td>\n      <td>74.101516</td>\n      <td>23.978885</td>\n    </tr>\n    <tr>\n      <th>min</th>\n      <td>84.000000</td>\n      <td>0.000000</td>\n      <td>0.000000</td>\n      <td>0.000000</td>\n      <td>17.519000</td>\n      <td>20.000000</td>\n    </tr>\n    <tr>\n      <th>25%</th>\n      <td>17014.500000</td>\n      <td>0.000000</td>\n      <td>0.000000</td>\n      <td>0.000000</td>\n      <td>80.290250</td>\n      <td>39.000000</td>\n    </tr>\n    <tr>\n      <th>50%</th>\n      <td>36058.000000</td>\n      <td>0.000000</td>\n      <td>0.000000</td>\n      <td>0.000000</td>\n      <td>142.870000</td>\n      <td>59.000000</td>\n    </tr>\n    <tr>\n      <th>75%</th>\n      <td>54850.250000</td>\n      <td>0.000000</td>\n      <td>0.000000</td>\n      <td>1.000000</td>\n      <td>206.902000</td>\n      <td>81.000000</td>\n    </tr>\n    <tr>\n      <th>max</th>\n      <td>72918.000000</td>\n      <td>1.000000</td>\n      <td>1.000000</td>\n      <td>1.000000</td>\n      <td>274.961000</td>\n      <td>102.000000</td>\n    </tr>\n  </tbody>\n</table>\n</div>"
     },
     "execution_count": 8,
     "metadata": {},
     "output_type": "execute_result"
    }
   ],
   "source": [
    "df.describe()"
   ]
  },
  {
   "cell_type": "markdown",
   "metadata": {},
   "source": [
    "### Concise Summary of the dataframe"
   ]
  },
  {
   "cell_type": "code",
   "execution_count": 9,
   "metadata": {},
   "outputs": [
    {
     "name": "stdout",
     "output_type": "stream",
     "text": [
      "<class 'pandas.core.frame.DataFrame'>\n",
      "RangeIndex: 1614 entries, 0 to 1613\n",
      "Data columns (total 11 columns):\n",
      " #   Column             Non-Null Count  Dtype  \n",
      "---  ------             --------------  -----  \n",
      " 0   id                 1614 non-null   int64  \n",
      " 1   hypertension       1612 non-null   float64\n",
      " 2   heart_disease      1613 non-null   float64\n",
      " 3   ever_married       1614 non-null   object \n",
      " 4   Residence_type     1611 non-null   object \n",
      " 5   smoking_status     1608 non-null   object \n",
      " 6   stroke             1614 non-null   int64  \n",
      " 7   avg_glucose_level  1612 non-null   float64\n",
      " 8   work_type          1613 non-null   object \n",
      " 9   age                1614 non-null   int64  \n",
      " 10  gender             1612 non-null   object \n",
      "dtypes: float64(3), int64(3), object(5)\n",
      "memory usage: 138.8+ KB\n"
     ]
    }
   ],
   "source": [
    "df.info()"
   ]
  },
  {
   "cell_type": "markdown",
   "metadata": {},
   "source": [
    "<center style=\"background-color:red; border-radius:20px;height:27px;font-weight:bold;\">FEATURE ENGINEERING<center>"
   ]
  },
  {
   "cell_type": "markdown",
   "metadata": {},
   "source": [
    "### Selecting `Features` and `Target` variables"
   ]
  },
  {
   "cell_type": "code",
   "execution_count": 10,
   "metadata": {},
   "outputs": [],
   "source": [
    "target = df[['stroke']]\n",
    "features = df.drop(columns=[\"id\", \"stroke\"], axis=1)"
   ]
  },
  {
   "cell_type": "markdown",
   "metadata": {},
   "source": [
    "### Selecting Categorical Feautures"
   ]
  },
  {
   "cell_type": "code",
   "execution_count": 11,
   "metadata": {},
   "outputs": [
    {
     "data": {
      "text/plain": "  ever_married Residence_type smoking_status      work_type  gender\n0          Yes          Rural          Never    Private Job    Male\n1          Yes          Urban  Smoked Before    Private Job    Male\n2          Yes          Rural  Smoked Before  Goverment Job  Female\n3          Yes          Urban  Smoked Before    Private Job  Female\n4          Yes          Rural        Unknown    Private Job  Female",
      "text/html": "<div>\n<style scoped>\n    .dataframe tbody tr th:only-of-type {\n        vertical-align: middle;\n    }\n\n    .dataframe tbody tr th {\n        vertical-align: top;\n    }\n\n    .dataframe thead th {\n        text-align: right;\n    }\n</style>\n<table border=\"1\" class=\"dataframe\">\n  <thead>\n    <tr style=\"text-align: right;\">\n      <th></th>\n      <th>ever_married</th>\n      <th>Residence_type</th>\n      <th>smoking_status</th>\n      <th>work_type</th>\n      <th>gender</th>\n    </tr>\n  </thead>\n  <tbody>\n    <tr>\n      <th>0</th>\n      <td>Yes</td>\n      <td>Rural</td>\n      <td>Never</td>\n      <td>Private Job</td>\n      <td>Male</td>\n    </tr>\n    <tr>\n      <th>1</th>\n      <td>Yes</td>\n      <td>Urban</td>\n      <td>Smoked Before</td>\n      <td>Private Job</td>\n      <td>Male</td>\n    </tr>\n    <tr>\n      <th>2</th>\n      <td>Yes</td>\n      <td>Rural</td>\n      <td>Smoked Before</td>\n      <td>Goverment Job</td>\n      <td>Female</td>\n    </tr>\n    <tr>\n      <th>3</th>\n      <td>Yes</td>\n      <td>Urban</td>\n      <td>Smoked Before</td>\n      <td>Private Job</td>\n      <td>Female</td>\n    </tr>\n    <tr>\n      <th>4</th>\n      <td>Yes</td>\n      <td>Rural</td>\n      <td>Unknown</td>\n      <td>Private Job</td>\n      <td>Female</td>\n    </tr>\n  </tbody>\n</table>\n</div>"
     },
     "execution_count": 11,
     "metadata": {},
     "output_type": "execute_result"
    }
   ],
   "source": [
    "categorical = features.select_dtypes(include=[\"object\", \"bool\"])\n",
    "categorical.head()"
   ]
  },
  {
   "cell_type": "markdown",
   "metadata": {},
   "source": [
    "### Use Mode(`most_frequent`) to impute Categorical missing values"
   ]
  },
  {
   "cell_type": "code",
   "execution_count": 12,
   "metadata": {},
   "outputs": [],
   "source": [
    "from sklearn.impute import SimpleImputer\n",
    "\n",
    "cat_impute = SimpleImputer(strategy=\"most_frequent\")\n",
    "\n",
    "cat_data = cat_impute.fit_transform(categorical)\n",
    "cat_df = pd.DataFrame(cat_data, columns=categorical.columns)"
   ]
  },
  {
   "cell_type": "markdown",
   "metadata": {},
   "source": [
    "### Display the Categorical Features after imputing missing values"
   ]
  },
  {
   "cell_type": "code",
   "execution_count": 13,
   "metadata": {},
   "outputs": [
    {
     "data": {
      "text/plain": "  ever_married Residence_type smoking_status      work_type  gender\n0          Yes          Rural          Never    Private Job    Male\n1          Yes          Urban  Smoked Before    Private Job    Male\n2          Yes          Rural  Smoked Before  Goverment Job  Female\n3          Yes          Urban  Smoked Before    Private Job  Female\n4          Yes          Rural        Unknown    Private Job  Female",
      "text/html": "<div>\n<style scoped>\n    .dataframe tbody tr th:only-of-type {\n        vertical-align: middle;\n    }\n\n    .dataframe tbody tr th {\n        vertical-align: top;\n    }\n\n    .dataframe thead th {\n        text-align: right;\n    }\n</style>\n<table border=\"1\" class=\"dataframe\">\n  <thead>\n    <tr style=\"text-align: right;\">\n      <th></th>\n      <th>ever_married</th>\n      <th>Residence_type</th>\n      <th>smoking_status</th>\n      <th>work_type</th>\n      <th>gender</th>\n    </tr>\n  </thead>\n  <tbody>\n    <tr>\n      <th>0</th>\n      <td>Yes</td>\n      <td>Rural</td>\n      <td>Never</td>\n      <td>Private Job</td>\n      <td>Male</td>\n    </tr>\n    <tr>\n      <th>1</th>\n      <td>Yes</td>\n      <td>Urban</td>\n      <td>Smoked Before</td>\n      <td>Private Job</td>\n      <td>Male</td>\n    </tr>\n    <tr>\n      <th>2</th>\n      <td>Yes</td>\n      <td>Rural</td>\n      <td>Smoked Before</td>\n      <td>Goverment Job</td>\n      <td>Female</td>\n    </tr>\n    <tr>\n      <th>3</th>\n      <td>Yes</td>\n      <td>Urban</td>\n      <td>Smoked Before</td>\n      <td>Private Job</td>\n      <td>Female</td>\n    </tr>\n    <tr>\n      <th>4</th>\n      <td>Yes</td>\n      <td>Rural</td>\n      <td>Unknown</td>\n      <td>Private Job</td>\n      <td>Female</td>\n    </tr>\n  </tbody>\n</table>\n</div>"
     },
     "execution_count": 13,
     "metadata": {},
     "output_type": "execute_result"
    }
   ],
   "source": [
    "cat_df.head()"
   ]
  },
  {
   "cell_type": "markdown",
   "metadata": {},
   "source": [
    "### Selecting Numerical Features"
   ]
  },
  {
   "cell_type": "code",
   "execution_count": 14,
   "metadata": {},
   "outputs": [
    {
     "data": {
      "text/plain": "   hypertension  heart_disease  avg_glucose_level  age\n0           1.0            0.0            175.270   20\n1           1.0            0.0            189.427   92\n2           0.0            0.0            205.948   22\n3           0.0            0.0            116.115   49\n4           0.0            1.0            147.898   48",
      "text/html": "<div>\n<style scoped>\n    .dataframe tbody tr th:only-of-type {\n        vertical-align: middle;\n    }\n\n    .dataframe tbody tr th {\n        vertical-align: top;\n    }\n\n    .dataframe thead th {\n        text-align: right;\n    }\n</style>\n<table border=\"1\" class=\"dataframe\">\n  <thead>\n    <tr style=\"text-align: right;\">\n      <th></th>\n      <th>hypertension</th>\n      <th>heart_disease</th>\n      <th>avg_glucose_level</th>\n      <th>age</th>\n    </tr>\n  </thead>\n  <tbody>\n    <tr>\n      <th>0</th>\n      <td>1.0</td>\n      <td>0.0</td>\n      <td>175.270</td>\n      <td>20</td>\n    </tr>\n    <tr>\n      <th>1</th>\n      <td>1.0</td>\n      <td>0.0</td>\n      <td>189.427</td>\n      <td>92</td>\n    </tr>\n    <tr>\n      <th>2</th>\n      <td>0.0</td>\n      <td>0.0</td>\n      <td>205.948</td>\n      <td>22</td>\n    </tr>\n    <tr>\n      <th>3</th>\n      <td>0.0</td>\n      <td>0.0</td>\n      <td>116.115</td>\n      <td>49</td>\n    </tr>\n    <tr>\n      <th>4</th>\n      <td>0.0</td>\n      <td>1.0</td>\n      <td>147.898</td>\n      <td>48</td>\n    </tr>\n  </tbody>\n</table>\n</div>"
     },
     "execution_count": 14,
     "metadata": {},
     "output_type": "execute_result"
    }
   ],
   "source": [
    "numericals = features.select_dtypes(include=[\"int\", \"float\"])\n",
    "numericals.head()"
   ]
  },
  {
   "cell_type": "markdown",
   "metadata": {},
   "source": [
    "### Use `mean` to impute numerical missing values"
   ]
  },
  {
   "cell_type": "code",
   "execution_count": 15,
   "metadata": {},
   "outputs": [],
   "source": [
    "num_impute = SimpleImputer(strategy=\"mean\")\n",
    "\n",
    "num_data = num_impute.fit_transform(numericals)\n",
    "num_df = pd.DataFrame(num_data, columns=numericals.columns)"
   ]
  },
  {
   "cell_type": "markdown",
   "metadata": {},
   "source": [
    "### Display the Numerical features aftering imputing missing values"
   ]
  },
  {
   "cell_type": "code",
   "execution_count": 16,
   "metadata": {},
   "outputs": [
    {
     "data": {
      "text/plain": "   hypertension  heart_disease  avg_glucose_level   age\n0           1.0            0.0            175.270  20.0\n1           1.0            0.0            189.427  92.0\n2           0.0            0.0            205.948  22.0\n3           0.0            0.0            116.115  49.0\n4           0.0            1.0            147.898  48.0",
      "text/html": "<div>\n<style scoped>\n    .dataframe tbody tr th:only-of-type {\n        vertical-align: middle;\n    }\n\n    .dataframe tbody tr th {\n        vertical-align: top;\n    }\n\n    .dataframe thead th {\n        text-align: right;\n    }\n</style>\n<table border=\"1\" class=\"dataframe\">\n  <thead>\n    <tr style=\"text-align: right;\">\n      <th></th>\n      <th>hypertension</th>\n      <th>heart_disease</th>\n      <th>avg_glucose_level</th>\n      <th>age</th>\n    </tr>\n  </thead>\n  <tbody>\n    <tr>\n      <th>0</th>\n      <td>1.0</td>\n      <td>0.0</td>\n      <td>175.270</td>\n      <td>20.0</td>\n    </tr>\n    <tr>\n      <th>1</th>\n      <td>1.0</td>\n      <td>0.0</td>\n      <td>189.427</td>\n      <td>92.0</td>\n    </tr>\n    <tr>\n      <th>2</th>\n      <td>0.0</td>\n      <td>0.0</td>\n      <td>205.948</td>\n      <td>22.0</td>\n    </tr>\n    <tr>\n      <th>3</th>\n      <td>0.0</td>\n      <td>0.0</td>\n      <td>116.115</td>\n      <td>49.0</td>\n    </tr>\n    <tr>\n      <th>4</th>\n      <td>0.0</td>\n      <td>1.0</td>\n      <td>147.898</td>\n      <td>48.0</td>\n    </tr>\n  </tbody>\n</table>\n</div>"
     },
     "execution_count": 16,
     "metadata": {},
     "output_type": "execute_result"
    }
   ],
   "source": [
    "num_df.head()"
   ]
  },
  {
   "cell_type": "markdown",
   "metadata": {},
   "source": [
    "### Saving the Cleaned dataset."
   ]
  },
  {
   "cell_type": "code",
   "execution_count": 17,
   "metadata": {},
   "outputs": [],
   "source": [
    "# cleanedDf = pd.concat([num_df, cat_df, target], axis=1)\n",
    "# cleanedDf.to_csv(\"CleanedStrokeData.csv\", index=False)\n",
    "# cleanedDf.ever_married.value_counts()"
   ]
  },
  {
   "cell_type": "markdown",
   "metadata": {},
   "source": [
    "### Categorical Feature Encoding - `One-Hot Encoder` or `pd.get_dummies()`\n",
    "\n",
    "* Since the features are **Nomial**.\n",
    "* **pd.get_dummies()** to create dummy variables for **Nomial** features."
   ]
  },
  {
   "cell_type": "code",
   "execution_count": null,
   "metadata": {},
   "outputs": [],
   "source": [
    "encoded_cat = pd.get_dummies(cat_df)\n",
    "encoded_cat"
   ]
  },
  {
   "cell_type": "markdown",
   "metadata": {},
   "source": [
    "### `Feature Scaling` for Numerical Features. - `Robust Scaler`\n",
    "\n",
    "* `Robust Scaler` is robust to handle outliers in the features as well."
   ]
  },
  {
   "cell_type": "code",
   "execution_count": null,
   "metadata": {},
   "outputs": [],
   "source": [
    "from sklearn.preprocessing import RobustScaler\n",
    "\n",
    "scaler = RobustScaler()\n",
    "\n",
    "scaled_data = scaler.fit_transform(num_df)\n",
    "robust_numericdf = pd.DataFrame(scaled_data, columns=num_df.columns)\n",
    "robust_numericdf"
   ]
  },
  {
   "cell_type": "markdown",
   "metadata": {},
   "source": [
    "### Combining both the **Categorical** and **Numerical** features together."
   ]
  },
  {
   "cell_type": "code",
   "execution_count": null,
   "metadata": {},
   "outputs": [],
   "source": [
    "X = pd.concat([encoded_cat, robust_numericdf], axis=1)\n",
    "X.head()"
   ]
  },
  {
   "cell_type": "markdown",
   "metadata": {},
   "source": [
    "### Target Variable"
   ]
  },
  {
   "cell_type": "code",
   "execution_count": null,
   "metadata": {},
   "outputs": [],
   "source": [
    "y = target\n",
    "y"
   ]
  },
  {
   "cell_type": "markdown",
   "metadata": {},
   "source": [
    "### Splitting the Dataset into Train and Test sets"
   ]
  },
  {
   "cell_type": "code",
   "execution_count": null,
   "metadata": {},
   "outputs": [],
   "source": [
    "from sklearn.model_selection import train_test_split\n",
    "\n",
    "x_train, x_test, y_train, y_test = train_test_split(X, y, test_size=0.2, random_state=42, stratify=y)\n",
    "\n",
    "print(\"x_train shape: \", x_train.shape)\n",
    "print(\"y_train shape: \", y_train.shape)\n",
    "print()\n",
    "print(\"x_test shape: \", x_test.shape)\n",
    "print(\"y_test shape: \", y_test.shape)"
   ]
  },
  {
   "cell_type": "markdown",
   "metadata": {},
   "source": [
    "<center style=\"background-color:red; border-radius:20px;height:27px;font-weight:bold;\">CLASSIFICATION ALGORITHMS<center>"
   ]
  },
  {
   "cell_type": "markdown",
   "metadata": {},
   "source": [
    "* `Logistic Regression`\n",
    "\n",
    "* `K-Nearest Neighbors`\n",
    "\n",
    "* `Decision Tree`\n",
    "\n",
    "* `Support Vector Machines`\n",
    "\n",
    "* `Random Forest Classifier`"
   ]
  },
  {
   "cell_type": "markdown",
   "metadata": {},
   "source": [
    "*****"
   ]
  },
  {
   "cell_type": "markdown",
   "metadata": {},
   "source": [
    "#### **1. Logistic Regression**"
   ]
  },
  {
   "cell_type": "code",
   "execution_count": null,
   "metadata": {},
   "outputs": [],
   "source": [
    "from sklearn.linear_model import LogisticRegression\n",
    "\n",
    "lr = LogisticRegression()\n",
    "\n",
    "lr.fit(x_train, y_train)\n",
    "\n",
    "lr_pred = lr.predict(x_test)\n",
    "\n",
    "print(\"Actual Labels:\", y_test.values.tolist()[:10])\n",
    "print(\"Predicted Labels:\", pd.DataFrame(lr_pred[:10]).values.tolist()[:10])"
   ]
  },
  {
   "cell_type": "markdown",
   "metadata": {},
   "source": [
    "#### Confusion Matrix for `Logistic Regression`"
   ]
  },
  {
   "cell_type": "code",
   "execution_count": null,
   "metadata": {},
   "outputs": [],
   "source": [
    "from sklearn.metrics import confusion_matrix\n",
    "import matplotlib.pyplot as plt\n",
    "import seaborn as sns\n",
    "\n",
    "# Function to plot confusion matrix\n",
    "def plot_confusion_matrix(y_test, y_pred, title, color):\n",
    "    \n",
    "    plt.figure(figsize=(14, 12))\n",
    "    \n",
    "    cm = confusion_matrix(y_test, y_pred)\n",
    "    sns.heatmap(cm, annot=True, cmap=color)\n",
    "\n",
    "    plt.title(title)\n",
    "    plt.ylabel(\"True Label\")\n",
    "    plt.xlabel(\"Predicted Label\")\n",
    "    plt.tight_layout()\n",
    "    \n",
    "    plt.show()"
   ]
  },
  {
   "cell_type": "code",
   "execution_count": null,
   "metadata": {},
   "outputs": [],
   "source": [
    "plot_confusion_matrix(y_test, lr_pred, \"Confustion Matrix - Logistic Regression\", \"Greens_r\")"
   ]
  },
  {
   "cell_type": "code",
   "execution_count": null,
   "metadata": {},
   "outputs": [],
   "source": [
    "# Calculate the Accuracy of the Logistic Regression\n",
    "from sklearn.metrics import accuracy_score\n",
    "\n",
    "lr_acc = round(accuracy_score(y_test, lr_pred), 4)\n",
    "\n",
    "print(\"Logistic Regression Accuracy:\", lr_acc)"
   ]
  },
  {
   "cell_type": "markdown",
   "metadata": {},
   "source": [
    "### **2. K-Nearest Neighbors**"
   ]
  },
  {
   "cell_type": "code",
   "execution_count": null,
   "metadata": {},
   "outputs": [],
   "source": [
    "from sklearn.neighbors import KNeighborsClassifier\n",
    "\n",
    "knn = KNeighborsClassifier()\n",
    "\n",
    "knn.fit(x_train, y_train)\n",
    "\n",
    "# Make a prediction\n",
    "knn_pred = knn.predict(x_test)\n",
    "\n",
    "print(\"Actual Labels:\", y_test.values.tolist()[:10])\n",
    "print(\"Predicted Labels:\", pd.DataFrame(knn_pred[:10]).values.tolist()[:10])"
   ]
  },
  {
   "cell_type": "markdown",
   "metadata": {},
   "source": [
    "#### Plot Confustion Matrix for `K-Nearest Neighbors`"
   ]
  },
  {
   "cell_type": "code",
   "execution_count": null,
   "metadata": {},
   "outputs": [],
   "source": [
    "plot_confusion_matrix(y_test, knn_pred, \"Confusion Matrix - K-Nearest Neighbors\", \"Blues\")"
   ]
  },
  {
   "cell_type": "code",
   "execution_count": null,
   "metadata": {},
   "outputs": [],
   "source": [
    "### Calculate the Accuracy of K-Nearest Neighbors model\n",
    "knn_acc = round(accuracy_score(y_test, knn_pred), 4)\n",
    "\n",
    "print(\"K-Nearest Neighbors Accuracy:\", knn_acc)"
   ]
  },
  {
   "cell_type": "markdown",
   "metadata": {},
   "source": [
    "### **3. Decision Tree**"
   ]
  },
  {
   "cell_type": "code",
   "execution_count": null,
   "metadata": {},
   "outputs": [],
   "source": [
    "from sklearn.tree import DecisionTreeClassifier\n",
    "\n",
    "tree = DecisionTreeClassifier()\n",
    "\n",
    "tree.fit(x_train, y_train)\n",
    "\n",
    "# Make a predictions\n",
    "tree_pred = tree.predict(x_test)\n",
    "\n",
    "print(\"Actual Labels:\", y_test.values.tolist()[:10])\n",
    "print(\"Predicted Labels:\", pd.DataFrame(tree_pred[:10]).values.tolist()[:10])"
   ]
  },
  {
   "cell_type": "markdown",
   "metadata": {},
   "source": [
    "#### Plot Confusion Matrix for `Decision Tree`"
   ]
  },
  {
   "cell_type": "code",
   "execution_count": null,
   "metadata": {},
   "outputs": [],
   "source": [
    "plot_confusion_matrix(y_test, tree_pred, \"Confusion Matrix - Decision Tree\", \"cool_r\")"
   ]
  },
  {
   "cell_type": "code",
   "execution_count": null,
   "metadata": {},
   "outputs": [],
   "source": [
    "### Calculate the Accuracy of Decision Tree model\n",
    "tree_acc = round(accuracy_score(y_test, tree_pred), 4)\n",
    "\n",
    "print(\"Decision Tree Accuracy:\", tree_acc)"
   ]
  },
  {
   "cell_type": "markdown",
   "metadata": {},
   "source": [
    "### **4. Support Vector Machines**"
   ]
  },
  {
   "cell_type": "code",
   "execution_count": null,
   "metadata": {},
   "outputs": [],
   "source": [
    "from sklearn.svm import SVC\n",
    "\n",
    "svm = SVC()\n",
    "\n",
    "svm.fit(x_train, y_train)\n",
    "\n",
    "# Make a prediction\n",
    "svm_pred = svm.predict(x_test)\n",
    "\n",
    "print(\"Actual Labels:\", y_test.values.tolist()[:10])\n",
    "print(\"Predicted Labels:\", pd.DataFrame(svm_pred[:10]).values.tolist()[:10])"
   ]
  },
  {
   "cell_type": "markdown",
   "metadata": {},
   "source": [
    "#### Plot Confustion Matrix for `Support Vector Machines(SVM)`"
   ]
  },
  {
   "cell_type": "code",
   "execution_count": null,
   "metadata": {},
   "outputs": [],
   "source": [
    "plot_confusion_matrix(y_test, svm_pred, \"Confustion Matrix - Support Vector Machines(SVM)\", \"terrain\")"
   ]
  },
  {
   "cell_type": "code",
   "execution_count": null,
   "metadata": {},
   "outputs": [],
   "source": [
    "### Calculate the Accuracy of Decision Tree model\n",
    "svm_acc = round(accuracy_score(y_test, svm_pred), 4)\n",
    "\n",
    "print(\"Support Vector Machines(SVM) Accuracy:\", svm_acc)"
   ]
  },
  {
   "cell_type": "markdown",
   "metadata": {},
   "source": [
    "### **5. Random Forest Classifier**"
   ]
  },
  {
   "cell_type": "code",
   "execution_count": null,
   "metadata": {},
   "outputs": [],
   "source": [
    "from sklearn.ensemble import RandomForestClassifier\n",
    "\n",
    "forest = RandomForestClassifier()\n",
    "\n",
    "forest.fit(x_train, y_train)\n",
    "\n",
    "# Make a prediction\n",
    "forest_pred = forest.predict(x_test)\n",
    "\n",
    "print(\"Actual Labels:\", y_test.values.tolist()[:10])\n",
    "print(\"Predicted Labels:\", pd.DataFrame(forest_pred[:10]).values.tolist()[:10])"
   ]
  },
  {
   "cell_type": "markdown",
   "metadata": {},
   "source": [
    "#### Plot Confustion Matrix for `Random Forest Classifier`"
   ]
  },
  {
   "cell_type": "code",
   "execution_count": null,
   "metadata": {},
   "outputs": [],
   "source": [
    "plot_confusion_matrix(y_test, forest_pred, \"Confusion Matrix - Random Forest Classifier\", \"OrRd_r\")"
   ]
  },
  {
   "cell_type": "code",
   "execution_count": null,
   "metadata": {},
   "outputs": [],
   "source": [
    "### Calculate the Accuracy of Decision Tree model\n",
    "forest_acc = round(accuracy_score(y_test, forest_pred), 4)\n",
    "\n",
    "print(\"Random Forest Classifier Accuracy:\", forest_acc)"
   ]
  },
  {
   "cell_type": "markdown",
   "metadata": {},
   "source": [
    "### Compare the Model Accuracy of all the Algorithms"
   ]
  },
  {
   "cell_type": "code",
   "execution_count": null,
   "metadata": {},
   "outputs": [],
   "source": [
    "names = [\"LR\", \"KNN\", \"D-Tree\", \"SVM\", \"R-Forest\"]\n",
    "acc = [lr_acc, knn_acc, tree_acc, svm_acc, forest_acc]\n",
    "\n",
    "models = pd.DataFrame(acc, index=names, columns=[\"Accuracy\"])\n",
    "models"
   ]
  },
  {
   "cell_type": "code",
   "execution_count": null,
   "metadata": {},
   "outputs": [],
   "source": [
    "models.min()[0]"
   ]
  },
  {
   "cell_type": "code",
   "execution_count": null,
   "metadata": {},
   "outputs": [],
   "source": [
    "\n",
    "plt.figure(figsize=(14, 7))\n",
    "\n",
    "models.plot(kind=\"bar\", legend=False)\n",
    "plt.ylim(models.min()[0] - 0.002, models.max()[0] + 0.002)\n",
    "plt.ylabel(\"Accuracy\")\n",
    "plt.xlabel(\"Models\")\n",
    "\n",
    "plt.show();"
   ]
  },
  {
   "cell_type": "markdown",
   "metadata": {},
   "source": [
    "<center style=\"background-color:red; border-radius:20px;height:27px;font-weight:bold;\">Hyper-Parameter Tuning<center>"
   ]
  },
  {
   "cell_type": "markdown",
   "metadata": {},
   "source": [
    "- **Before Hyper-Parameter Tuning**"
   ]
  },
  {
   "cell_type": "code",
   "execution_count": null,
   "metadata": {},
   "outputs": [],
   "source": [
    "from sklearn.metrics import classification_report\n",
    "\n",
    "print(classification_report(y_test, svm_pred))\n"
   ]
  },
  {
   "cell_type": "markdown",
   "metadata": {},
   "source": [
    "- **After Hyper-Parameter Tuning - GridsearchCV**"
   ]
  },
  {
   "cell_type": "code",
   "execution_count": null,
   "metadata": {},
   "outputs": [],
   "source": [
    "from sklearn.model_selection import train_test_split\n",
    "\n",
    "x_train, x_test, y_train, y_test = train_test_split(X, y, test_size=0.2, random_state=42)"
   ]
  },
  {
   "cell_type": "code",
   "execution_count": null,
   "metadata": {},
   "outputs": [],
   "source": [
    "# turn dataframe to numpy arrays for GridSearchCV\n",
    "x_train = np.array(x_train)\n",
    "y_train = np.array(y_train)"
   ]
  },
  {
   "cell_type": "code",
   "execution_count": null,
   "metadata": {},
   "outputs": [],
   "source": [
    "x_train.shape"
   ]
  },
  {
   "cell_type": "code",
   "execution_count": null,
   "metadata": {},
   "outputs": [],
   "source": [
    "from sklearn.model_selection import GridSearchCV"
   ]
  },
  {
   "cell_type": "code",
   "execution_count": null,
   "metadata": {},
   "outputs": [],
   "source": [
    "# define parameters range\n",
    "param_grid = {\n",
    "    \"C\":[0.1, 1, 10, 100, 1000],\n",
    "    \"gamma\":[1, 0.1, 0.01, 0.001, 0.0001],\n",
    "    \"kernel\":[\"linear\",\"poly\",\"sigmoid\", \"rbf\"]\n",
    "}\n",
    "\n",
    "grid = GridSearchCV(SVC(), param_grid, refit=True, verbose=1)"
   ]
  },
  {
   "cell_type": "code",
   "execution_count": null,
   "metadata": {},
   "outputs": [],
   "source": [
    "# fit the model for GridSearchCV to find best parameters\n",
    "# grid.fit(x_train, y_train) -> takes too long time"
   ]
  },
  {
   "cell_type": "code",
   "execution_count": null,
   "metadata": {},
   "outputs": [],
   "source": [
    "from sklearn.svm import SVC\n",
    "\n",
    "svm_grid = SVC(C=10, gamma=\"auto\")\n",
    "svm_grid.fit(x_train, y_train)"
   ]
  },
  {
   "cell_type": "code",
   "execution_count": null,
   "metadata": {},
   "outputs": [],
   "source": [
    "svm_grid_pred = svm_grid.predict(x_test)\n",
    "\n",
    "# display the classification_report after hyper-parameter tuning\n",
    "print(classification_report(y_test, svm_grid_pred))\n"
   ]
  },
  {
   "cell_type": "markdown",
   "metadata": {},
   "source": [
    "<center style=\"background-color:red; border-radius:20px;height:27px;font-weight:bold;\">MACHINE LEARNING PIPELINES<center>"
   ]
  },
  {
   "cell_type": "markdown",
   "metadata": {},
   "source": [
    "#### `Feature Engineering with Pipeline`"
   ]
  },
  {
   "cell_type": "code",
   "execution_count": null,
   "metadata": {},
   "outputs": [],
   "source": [
    "features.head()"
   ]
  },
  {
   "cell_type": "code",
   "execution_count": null,
   "metadata": {},
   "outputs": [],
   "source": [
    "# Separate the Categorical and Numerical Columns\n",
    "\n",
    "# Numeric columns\n",
    "numeric_cols = features.select_dtypes(include=['int64','float64']).columns\n",
    "print(numeric_cols)\n",
    "\n",
    "# categorical columns\n",
    "categorical_cols = features.select_dtypes(include=['object']).columns\n",
    "print(categorical_cols)"
   ]
  },
  {
   "cell_type": "markdown",
   "metadata": {},
   "source": [
    "#### **1. Create Pre-Processing Pipeline**"
   ]
  },
  {
   "cell_type": "code",
   "execution_count": null,
   "metadata": {},
   "outputs": [],
   "source": [
    "from sklearn.pipeline import Pipeline\n",
    "\n",
    "# Pre-Processing pipeline for Numeric Feautures\n",
    "n_transformer = Pipeline(steps=\n",
    "    [\n",
    "        (\"imputeN\", SimpleImputer(strategy=\"mean\")),\n",
    "        (\"scaler\", RobustScaler())\n",
    "    ]\n",
    ")\n",
    "\n",
    "n_transformer"
   ]
  },
  {
   "cell_type": "code",
   "execution_count": null,
   "metadata": {},
   "outputs": [],
   "source": [
    "# Pre-Processing Pipeline for Categorical Features\n",
    "from sklearn.preprocessing import OneHotEncoder\n",
    "\n",
    "\n",
    "c_transformer = Pipeline(steps=\n",
    "    [\n",
    "        (\"imputeC\", SimpleImputer(strategy=\"most_frequent\")),\n",
    "        (\"onehot\", OneHotEncoder(handle_unknown=\"ignore\"))\n",
    "    ]\n",
    ")\n",
    "\n",
    "c_transformer"
   ]
  },
  {
   "cell_type": "markdown",
   "metadata": {},
   "source": [
    "#### **2. Apply Transformer**"
   ]
  },
  {
   "cell_type": "code",
   "execution_count": null,
   "metadata": {},
   "outputs": [],
   "source": [
    "from sklearn.compose import ColumnTransformer\n",
    "\n",
    "pre = ColumnTransformer(transformers=\n",
    "                        [\n",
    "                            (\"categoric\", c_transformer, categorical_cols),\n",
    "                            (\"numeric\", n_transformer, numeric_cols)\n",
    "                        ]\n",
    ")\n",
    "\n",
    "pre"
   ]
  },
  {
   "cell_type": "markdown",
   "metadata": {},
   "source": [
    "#### **3. Add estimator to the Pipeline**"
   ]
  },
  {
   "cell_type": "code",
   "execution_count": null,
   "metadata": {},
   "outputs": [],
   "source": [
    "from sklearn.svm import SVC\n",
    "\n",
    "# Create Support Vector Machine model/estimator\n",
    "svm = SVC()\n",
    "svm"
   ]
  },
  {
   "cell_type": "code",
   "execution_count": null,
   "metadata": {},
   "outputs": [],
   "source": [
    "svm_model = Pipeline(steps=\n",
    "                   [\n",
    "                       (\"preprocessing\", pre),\n",
    "                       (\"est\", svm)\n",
    "                   ]\n",
    ")\n",
    "\n",
    "svm_model"
   ]
  },
  {
   "cell_type": "markdown",
   "metadata": {},
   "source": [
    "#### **4. Train Pipeline Model**"
   ]
  },
  {
   "cell_type": "code",
   "execution_count": null,
   "metadata": {},
   "outputs": [],
   "source": [
    "X_train, X_test, Y_train, Y_test = train_test_split(features, target, test_size=0.2, random_state=144, stratify=target)"
   ]
  },
  {
   "cell_type": "code",
   "execution_count": null,
   "metadata": {},
   "outputs": [],
   "source": [
    "from sklearn import set_config\n",
    "\n",
    "# train pipeline model\n",
    "set_config(display=\"diagram\")\n",
    "svm_model.fit(X_train, Y_train)"
   ]
  },
  {
   "cell_type": "code",
   "execution_count": null,
   "metadata": {},
   "outputs": [],
   "source": [
    "X_train.shape"
   ]
  },
  {
   "cell_type": "code",
   "execution_count": null,
   "metadata": {},
   "outputs": [],
   "source": [
    "X_train.columns"
   ]
  },
  {
   "cell_type": "code",
   "execution_count": null,
   "metadata": {},
   "outputs": [],
   "source": [
    "X_train.head(1)"
   ]
  },
  {
   "cell_type": "markdown",
   "metadata": {},
   "source": [
    "#### Confusion Matrix - `Random Forest Classifier`"
   ]
  },
  {
   "cell_type": "code",
   "execution_count": null,
   "metadata": {},
   "outputs": [],
   "source": [
    "plot_confusion_matrix(Y_test, svm_model.predict(X_test), \"RandomForestClassifier\", \"OrRd_r\")"
   ]
  },
  {
   "cell_type": "markdown",
   "metadata": {},
   "source": [
    "#### Construct `Classification Report`"
   ]
  },
  {
   "cell_type": "code",
   "execution_count": null,
   "metadata": {},
   "outputs": [],
   "source": [
    "from sklearn.metrics import classification_report, recall_score, f1_score, precision_score, confusion_matrix\n",
    "import seaborn as sns"
   ]
  },
  {
   "cell_type": "code",
   "execution_count": null,
   "metadata": {},
   "outputs": [],
   "source": [
    "# Make a prediction\n",
    "y_pred = svm_model.predict(X_test)\n",
    "\n",
    "# Summarize the fit of the model\n",
    "report = classification_report(Y_test, y_pred, target_names=[\"No Stroke\", \"Stroke\"])\n",
    "print(report)\n",
    "\n",
    "# Confusion Matrix\n",
    "cm = confusion_matrix(Y_test, y_pred)\n",
    "sns.heatmap(cm, annot=True, cmap='OrRd_r');\n",
    "\n",
    "plt.ylabel(\"Actual Labels\")\n",
    "plt.xlabel(\"Predicted Labels\")\n",
    "\n",
    "plt.show()"
   ]
  },
  {
   "cell_type": "markdown",
   "metadata": {},
   "source": [
    "<center style=\"background-color:red; border-radius:20px;height:27px;font-weight:bold;\">SAVING THE TRAINED MODELS<center>"
   ]
  },
  {
   "cell_type": "code",
   "execution_count": null,
   "metadata": {},
   "outputs": [],
   "source": [
    "# import library to save the trained ML model\n",
    "import pickle\n",
    "\n",
    "# save the model\n",
    "svm_pickle = open(\"svm_Stroke_predictor.pickle\", \"wb\")\n",
    "pickle.dump(svm_model, svm_pickle)\n",
    "svm_pickle.close()"
   ]
  },
  {
   "cell_type": "code",
   "execution_count": null,
   "metadata": {},
   "outputs": [],
   "source": [
    "svm_model = pickle.load(open(\"svm_Stroke_predictor.pickle\", \"rb\"))\n",
    "svm_model"
   ]
  },
  {
   "cell_type": "code",
   "execution_count": null,
   "metadata": {},
   "outputs": [],
   "source": [
    "np.round(svm_model.score(X_test, Y_test), 4)"
   ]
  },
  {
   "cell_type": "code",
   "execution_count": null,
   "metadata": {},
   "outputs": [],
   "source": [
    "X_train.head()"
   ]
  },
  {
   "cell_type": "markdown",
   "metadata": {},
   "source": [
    "##### <center style=\"background-color:red; border-radius:20px;height:35px;font-weight:bold;\"> ~ ~ THE END ~ ~ <center>"
   ]
  },
  {
   "cell_type": "code",
   "execution_count": null,
   "outputs": [],
   "source": [],
   "metadata": {
    "collapsed": false
   }
  }
 ],
 "metadata": {
  "kernelspec": {
   "display_name": "Python 3 (ipykernel)",
   "language": "python",
   "name": "python3"
  },
  "language_info": {
   "codemirror_mode": {
    "name": "ipython",
    "version": 3
   },
   "file_extension": ".py",
   "mimetype": "text/x-python",
   "name": "python",
   "nbconvert_exporter": "python",
   "pygments_lexer": "ipython3",
   "version": "3.10.5"
  },
  "vscode": {
   "interpreter": {
    "hash": "244bedbdb3f491d3da577a441027261ef0920ec5dd5886d860665a9779790e15"
   }
  }
 },
 "nbformat": 4,
 "nbformat_minor": 2
}
